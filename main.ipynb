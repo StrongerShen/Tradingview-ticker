{
 "cells": [
  {
   "cell_type": "code",
   "execution_count": null,
   "metadata": {},
   "outputs": [],
   "source": [
    "import time\n",
    "from ticker import ticker\n",
    "from datetime import datetime\n",
    "\n",
    "tick = ticker(\"TAIFEX:TXF1!\")\n",
    "tick.start()\n",
    "\n",
    "while True:\n",
    "    # Prints price and volume every 1 seconds\n",
    "    print(tick.states) # Output Example: {'TAIFEX:TXF1!': {'volume': 82176.0, 'price': 22480.0, 'change': 119.0, 'changePercentage': 0.53, 'time': 1724120460}}\n",
    "    time_value = tick.states['TAIFEX:TXF1!']['time']\n",
    "    human_readable_time = datetime.fromtimestamp(time_value).strftime('%Y-%m-%d %H:%M:%S')\n",
    "    print(human_readable_time)\n",
    "    \n",
    "    time.sleep(1)"
   ]
  },
  {
   "cell_type": "code",
   "execution_count": null,
   "metadata": {},
   "outputs": [],
   "source": [
    "import time\n",
    "from ticker import ticker\n",
    "from datetime import datetime\n",
    "\n",
    "# 設定 price 變化方向 (1 表示增加, -1 表示減少)\n",
    "price_change_direction = -1\n",
    "\n",
    "tick = ticker(\"TAIFEX:TXF1!\")\n",
    "tick.start()\n",
    "\n",
    "while True:\n",
    "    # 獲取當前的 price、volume 和 time\n",
    "    states = tick.states\n",
    "    if states:\n",
    "        initial_price = states['TAIFEX:TXF1!']['price']\n",
    "        initial_volume = states['TAIFEX:TXF1!']['volume']\n",
    "        initial_time = states['TAIFEX:TXF1!']['time']  # 從 ticker 獲取 initial_time\n",
    "        human_readable_initial_time = datetime.fromtimestamp(initial_time).strftime('%Y-%m-%d %H:%M:%S')\n",
    "        print(f'initial >>> Price: {initial_price}, Volume: {initial_volume}, Time: {human_readable_initial_time}')\n",
    "\n",
    "    # 等待 25 秒,每秒檢查一次 price\n",
    "    for _ in range(25):\n",
    "        states = tick.states\n",
    "        if states:\n",
    "            current_price = states['TAIFEX:TXF1!']['price']\n",
    "            current_volume = states['TAIFEX:TXF1!']['volume']\n",
    "            current_time = states['TAIFEX:TXF1!']['time']  # 從 ticker 獲取 current_time\n",
    "            human_readable_current_time = datetime.fromtimestamp(current_time).strftime('%Y-%m-%d %H:%M:%S')  # 使用 ticker 獲取的時間\n",
    "            \n",
    "            # 判斷 price 是否變化了 15\n",
    "            price_change = abs(initial_price - current_price)\n",
    "            if price_change >= 15:\n",
    "                if price_change_direction == -1:\n",
    "                    if initial_price - current_price >= 15:\n",
    "                        print(f'Price: {current_price}, Volume: {current_volume}, Time: {human_readable_current_time}')\n",
    "                        break\n",
    "                elif price_change_direction == 1:\n",
    "                    if current_price - initial_price >= 15:\n",
    "                        print(f'Price: {current_price}, Volume: {current_volume}, Time: {human_readable_current_time}')\n",
    "                        break\n",
    "        time.sleep(1)  # 每秒檢查一次\n",
    "                        \n",
    "    # 每 25 秒循環一次"
   ]
  },
  {
   "cell_type": "code",
   "execution_count": null,
   "metadata": {},
   "outputs": [],
   "source": [
    "import time\n",
    "from ticker import ticker\n",
    "\n",
    "tick = ticker([\"BINANCE:BTCUSDT\", \"NASDAQ:AAPL\"])\n",
    "tick.start()\n",
    "\n",
    "while True:\n",
    "    # Continuously outputs data for all tracked symbols, every 2 seconds\n",
    "    print(tick.states) # Example: {'BINANCE:BTCUSDT': {'volume': 7247.69177, 'price': 42749.32, 'change': 238.22, 'changePercentage': 0.56, 'time': 1705390650}, 'NASDAQ:AAPL': {'volume': 40477782, 'price': 185.92, 'change': 0.33, 'changePercentage': 0.18, 'time': 1705107599}}\n",
    "    time.sleep(2)"
   ]
  },
  {
   "cell_type": "code",
   "execution_count": null,
   "metadata": {},
   "outputs": [],
   "source": [
    "import time\n",
    "from ticker import ticker\n",
    "\n",
    "# Define a callback function to handle incoming ticker data\n",
    "def handleTicker(ticker_name, data):\n",
    "    # data contains information such as volume, price, change, etc.\n",
    "    print(f\"Ticker update! {ticker_name}: {data}\")\n",
    "    pass\n",
    "\n",
    "# Initialize the ticker object for a specific ticker\n",
    "tick = ticker(\"TAIFEX:TXF1!\")\n",
    "\n",
    "# Assign the callback function\n",
    "tick.cb = handleTicker\n",
    "\n",
    "# Start the ticker to receive data\n",
    "tick.start()\n",
    "\n",
    "# Run an infinite loop to keep the main thread alive\n",
    "while True:\n",
    "    time.sleep(1)"
   ]
  }
 ],
 "metadata": {
  "kernelspec": {
   "display_name": "Python 3",
   "language": "python",
   "name": "python3"
  },
  "language_info": {
   "codemirror_mode": {
    "name": "ipython",
    "version": 3
   },
   "file_extension": ".py",
   "mimetype": "text/x-python",
   "name": "python",
   "nbconvert_exporter": "python",
   "pygments_lexer": "ipython3",
   "version": "3.9.6"
  }
 },
 "nbformat": 4,
 "nbformat_minor": 2
}
